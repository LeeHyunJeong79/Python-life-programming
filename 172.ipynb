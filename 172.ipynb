{
 "cells": [
  {
   "cell_type": "code",
   "execution_count": 5,
   "id": "0f133b94",
   "metadata": {},
   "outputs": [
    {
     "name": "stdout",
     "output_type": "stream",
     "text": [
      "[[2 3]\n",
      " [5 2]]\n"
     ]
    }
   ],
   "source": [
    "import numpy as np \n",
    "a=np.array([[2,3],[5,2]])\n",
    "print(a)"
   ]
  },
  {
   "cell_type": "code",
   "execution_count": 11,
   "id": "dc6c9234",
   "metadata": {},
   "outputs": [
    {
     "name": "stdout",
     "output_type": "stream",
     "text": [
      "[[1 2 3 4 5]\n",
      " [2 4 5 6 7]\n",
      " [5 7 8 9 9]]\n",
      "(3, 5)\n",
      "int32\n"
     ]
    }
   ],
   "source": [
    "d=np.array([[1,2,3,4,5],[2,4,5,6,7],[5,7,8,9,9]])\n",
    "print(d)\n",
    "print(d.shape) #배열 d의 크기 : 리스트 3개에 각 5개씩 원소를 가지고 있음.\n",
    "print(d.dtype) #배열의 타입"
   ]
  },
  {
   "cell_type": "code",
   "execution_count": 20,
   "id": "de73c09d",
   "metadata": {},
   "outputs": [
    {
     "name": "stdout",
     "output_type": "stream",
     "text": [
      "더하기 [[14 26 18]\n",
      " [42 54 66]]\n",
      "곱하기 [[ 24  69  56]\n",
      " [216 329 464]]\n",
      "나누기 [[0.16666667 0.13043478 0.28571429]\n",
      " [0.16666667 0.14893617 0.13793103]]\n"
     ]
    }
   ],
   "source": [
    "arr1=np.array([[2,3,4],[6,7,8]])\n",
    "arr2=np.array([[12,23,14],[36,47,58]])\n",
    "print(\"더하기\", arr1+arr2)\n",
    "print(\"곱하기\",arr1*arr2)\n",
    "print(\"나누기\",arr1/arr2)"
   ]
  },
  {
   "cell_type": "code",
   "execution_count": 21,
   "id": "724bc082",
   "metadata": {},
   "outputs": [
    {
     "name": "stdout",
     "output_type": "stream",
     "text": [
      "[[102 203 304]\n",
      " [106 207 308]]\n"
     ]
    }
   ],
   "source": [
    "arr1=np.array([[2,3,4],[6,7,8]])\n",
    "arr3=np.array([100,200,300]) #177p 서로 다른 크기의 배열을 연산하는 기능을 브로드캐스팅기능이라고 함.\n",
    "print(arr1+arr3)"
   ]
  },
  {
   "cell_type": "code",
   "execution_count": 22,
   "id": "62a986de",
   "metadata": {},
   "outputs": [
    {
     "ename": "ValueError",
     "evalue": "operands could not be broadcast together with shapes (2,3) (10,) ",
     "output_type": "error",
     "traceback": [
      "\u001b[1;31m---------------------------------------------------------------------------\u001b[0m",
      "\u001b[1;31mValueError\u001b[0m                                Traceback (most recent call last)",
      "\u001b[1;32m<ipython-input-22-e48848328c2d>\u001b[0m in \u001b[0;36m<module>\u001b[1;34m\u001b[0m\n\u001b[0;32m      1\u001b[0m \u001b[0marr1\u001b[0m\u001b[1;33m=\u001b[0m\u001b[0mnp\u001b[0m\u001b[1;33m.\u001b[0m\u001b[0marray\u001b[0m\u001b[1;33m(\u001b[0m\u001b[1;33m[\u001b[0m\u001b[1;33m[\u001b[0m\u001b[1;36m2\u001b[0m\u001b[1;33m,\u001b[0m\u001b[1;36m3\u001b[0m\u001b[1;33m,\u001b[0m\u001b[1;36m4\u001b[0m\u001b[1;33m]\u001b[0m\u001b[1;33m,\u001b[0m\u001b[1;33m[\u001b[0m\u001b[1;36m6\u001b[0m\u001b[1;33m,\u001b[0m\u001b[1;36m7\u001b[0m\u001b[1;33m,\u001b[0m\u001b[1;36m8\u001b[0m\u001b[1;33m]\u001b[0m\u001b[1;33m]\u001b[0m\u001b[1;33m)\u001b[0m\u001b[1;33m\u001b[0m\u001b[1;33m\u001b[0m\u001b[0m\n\u001b[0;32m      2\u001b[0m \u001b[0marr4\u001b[0m\u001b[1;33m=\u001b[0m\u001b[0mnp\u001b[0m\u001b[1;33m.\u001b[0m\u001b[0marray\u001b[0m\u001b[1;33m(\u001b[0m\u001b[1;33m[\u001b[0m\u001b[1;36m1\u001b[0m\u001b[1;33m,\u001b[0m\u001b[1;36m2\u001b[0m\u001b[1;33m,\u001b[0m\u001b[1;36m3\u001b[0m\u001b[1;33m,\u001b[0m\u001b[1;36m4\u001b[0m\u001b[1;33m,\u001b[0m\u001b[1;36m5\u001b[0m\u001b[1;33m,\u001b[0m\u001b[1;36m6\u001b[0m\u001b[1;33m,\u001b[0m\u001b[1;36m7\u001b[0m\u001b[1;33m,\u001b[0m\u001b[1;36m8\u001b[0m\u001b[1;33m,\u001b[0m\u001b[1;36m9\u001b[0m\u001b[1;33m,\u001b[0m\u001b[1;36m10\u001b[0m\u001b[1;33m]\u001b[0m\u001b[1;33m)\u001b[0m\u001b[1;33m\u001b[0m\u001b[1;33m\u001b[0m\u001b[0m\n\u001b[1;32m----> 3\u001b[1;33m \u001b[0mprint\u001b[0m\u001b[1;33m(\u001b[0m\u001b[0marr1\u001b[0m\u001b[1;33m+\u001b[0m\u001b[0marr4\u001b[0m\u001b[1;33m)\u001b[0m\u001b[1;33m\u001b[0m\u001b[1;33m\u001b[0m\u001b[0m\n\u001b[0m",
      "\u001b[1;31mValueError\u001b[0m: operands could not be broadcast together with shapes (2,3) (10,) "
     ]
    }
   ],
   "source": [
    "arr1=np.array([[2,3,4],[6,7,8]])\n",
    "arr4=np.array([1,2,3,4,5,6,7,8,9,10]) #행과 열의 크기가 모두 다 다른 매열은 더할 수 없습니다.\n",
    "print(arr1+arr4)"
   ]
  },
  {
   "cell_type": "code",
   "execution_count": 23,
   "id": "43d184e1",
   "metadata": {},
   "outputs": [
    {
     "name": "stdout",
     "output_type": "stream",
     "text": [
      "[[11 12 13]\n",
      " [ 9 10 11]]\n"
     ]
    }
   ],
   "source": [
    "arr1=np.array([[2,3,4],[6,7,8]])\n",
    "arr5=np.array([[9],[3]])\n",
    "print(arr1+arr5)"
   ]
  },
  {
   "cell_type": "code",
   "execution_count": 26,
   "id": "22a090ae",
   "metadata": {},
   "outputs": [
    {
     "name": "stdout",
     "output_type": "stream",
     "text": [
      "[0 1 2 3 4 5 6 7 8 9]\n",
      "[0 1 2 3]\n"
     ]
    }
   ],
   "source": [
    "arr4=np.arange(10)\n",
    "print(arr4)\n",
    "print(arr4[:4])"
   ]
  },
  {
   "cell_type": "code",
   "execution_count": 30,
   "id": "3e6e2f4f",
   "metadata": {},
   "outputs": [
    {
     "name": "stdout",
     "output_type": "stream",
     "text": [
      "[[2 3 4]\n",
      " [6 7 8]]\n",
      "8\n",
      "[4 8]\n"
     ]
    }
   ],
   "source": [
    "print(arr1)\n",
    "print(arr1[1,2]) #arr1리스트에서 1행 2열의 원소를 출력\n",
    "print(arr1[:,2]) #arr1리스트에서 모든 행의 2열 원소를 출력"
   ]
  },
  {
   "cell_type": "code",
   "execution_count": null,
   "id": "6417e461",
   "metadata": {},
   "outputs": [],
   "source": []
  }
 ],
 "metadata": {
  "kernelspec": {
   "display_name": "Python 3",
   "language": "python",
   "name": "python3"
  },
  "language_info": {
   "codemirror_mode": {
    "name": "ipython",
    "version": 3
   },
   "file_extension": ".py",
   "mimetype": "text/x-python",
   "name": "python",
   "nbconvert_exporter": "python",
   "pygments_lexer": "ipython3",
   "version": "3.8.8"
  }
 },
 "nbformat": 4,
 "nbformat_minor": 5
}
