{
 "cells": [
  {
   "cell_type": "code",
   "execution_count": 1,
   "id": "06b14892",
   "metadata": {},
   "outputs": [],
   "source": [
    "import os,re\n",
    "import urllib.request as ur\n",
    "from bs4 import BeautifulSoup as bs\n",
    "news='https://news.daum.net/'\n",
    "soup=bs(ur.urlopen(news).read(),'html.parser')"
   ]
  },
  {
   "cell_type": "code",
   "execution_count": null,
   "id": "25b5f093",
   "metadata": {},
   "outputs": [],
   "source": [
    "f=open('link.txt','w')\n",
    "for i in soup.find_all('div',{'class':'item_issue'}):\n",
    "    f.write(i.find_all('a')[0].get('href')+'\\n')"
   ]
  }
 ],
 "metadata": {
  "kernelspec": {
   "display_name": "Python 3",
   "language": "python",
   "name": "python3"
  },
  "language_info": {
   "codemirror_mode": {
    "name": "ipython",
    "version": 3
   },
   "file_extension": ".py",
   "mimetype": "text/x-python",
   "name": "python",
   "nbconvert_exporter": "python",
   "pygments_lexer": "ipython3",
   "version": "3.8.8"
  }
 },
 "nbformat": 4,
 "nbformat_minor": 5
}
