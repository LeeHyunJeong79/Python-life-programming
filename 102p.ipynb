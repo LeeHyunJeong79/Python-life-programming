{
 "cells": [
  {
   "cell_type": "code",
   "execution_count": 5,
   "id": "77056c2b",
   "metadata": {},
   "outputs": [
    {
     "name": "stdout",
     "output_type": "stream",
     "text": [
      "The One Where Monica Gets a New Roommate (The Pilot-The Uncut Version)\n",
      "Written by: Marta Kauffman & \n"
     ]
    }
   ],
   "source": [
    "#102p\n",
    "#드라마 대본 텍스트 파일 가공하기\n",
    "import os,re\n",
    "os.chdir(r'C:\\Users\\hjeon\\OneDrive - 군포e비즈니스고등학교\\2021 교과\\파이썬 생활프로그래밍')\n",
    "f=open('friends101.txt','r',encoding='utf8')\n",
    "script101=f.read()\n",
    "print(script101[:100])"
   ]
  },
  {
   "cell_type": "code",
   "execution_count": 12,
   "id": "38e4ba65",
   "metadata": {},
   "outputs": [
    {
     "name": "stdout",
     "output_type": "stream",
     "text": [
      "Monica: There's nothing to tell! He's just some guy I work with!  \n",
      "Monica: Okay, everybody relax. This is not even a date. It's just two people going out to dinner and- not having sex.\n",
      "Monica: And they weren't looking at you before?!\n",
      "Monica: Are you okay, sweetie?\n",
      "Monica: (explaining to the others) Carol moved her stuff out today.\n",
      "Monica: (to Ross) Let me get you some coffee.\n",
      "Monica: No you don't.\n",
      "Monica: Oh really, so that hysterical phone call I got from a woman at sobbing 3:00 A.M., \"I'll never have grandchildren, I'll never have grandchildren.\" was what?  A wrong number?\n",
      "Monica: Rachel?!\n",
      "Monica: (pointing at Rachel) De-caff. (to All) Okay, everybody, this is Rachel, another Lincoln High survivor. (to Rachel) This is everybody, this is Chandler, and Phoebe, and Joey, and- you remember my brother Ross?\n",
      "Monica: So you wanna tell us now, or are we waiting for four wet bridesmaids?\n",
      "Monica: Who wasn't invited to the wedding.\n",
      "Monica: Now I'm guessing that he bought her the big pipe organ, and she's really not happy about it.\n",
      "Monica: Well, I guess we've established who's staying here with Monica...\n",
      "Monica: Just breathe, breathe.. that's it. Just try to think of nice calm things...\n",
      "Monica: Okay, look, this is probably for the best, y'know? Independence. Taking control of your life.  The whole, 'hat' thing.\n",
      "Monica: Joey, stop hitting on her! It's her wedding day!\n",
      "Monica: Oh God, is it 6:30?  Buzz him in!\n",
      "Monica: Maybe. Joey: Wait. Your 'not a real date' tonight is with Paul the Wine Guy?\n",
      "Monica: Yes!\n",
      "Monica: Rach, wait, I can cancel...\n",
      "Monica: (to Ross) Are, are you okay? I mean, do you want me to stay?\n",
      "Monica: (horrified) Really?\n",
      "Monica: Hi, come in! Paul, this is.. (They are all lined up next to the door.)... everybody, everybody, this is Paul.\n",
      "Monica: Okay, umm-umm, I'll just--I'll be right back, I just gotta go ah, go ah...\n",
      "Monica: Change!  Okay, sit down. (Shows Paul in) Two seconds.\n",
      "Monica: (yelling from the bedroom) Shut up, Joey!\n",
      "Monica: Oh my God!\n",
      "Monica: My brother's going through that right now, he's such a mess. How did you get through it?\n",
      "Monica: -leg?\n",
      "Monica: You actually broke her watch?  Wow!  The worst thing I ever did was, I-I shredded by boyfriend's favorite bath towel.\n",
      "Monica: That's right. [Scene: Monica's Apartment, Rachel is talking on the phone and pacing.]\n",
      "Monica: What?..... What, you wanna spell it out with noodles?\n",
      "Monica: Oh, so there is gonna be a fifth date?\n",
      "Monica: Yeah... yeah, I think there is. -What were you gonna say?\n",
      "Monica: (spitting out her drink in shock) Oh God, oh God, I am sorry... I am so sorry...\n",
      "Monica: I know being spit on is probably not what you need right now. Um... how long?\n",
      "Monica: Wow! I'm-I'm-I'm glad you smashed her watch!\n",
      "Monica: (pause)...Yeah. Yeah, I do.\n",
      "Monica: (entering, to herself) Oh good, Lenny and Squigy are here.\n",
      "Monica: Stop!\n",
      "Monica: We'll talk later.\n",
      "Monica: Shut up, and put my table back.\n",
      "Monica: Yeah, we all have jobs. See, that's how we buy stuff.\n",
      "Monica: Oh wait, wait, unless you happened to catch the Reruns' production of Pinocchio, at the little theater in the park.\n",
      "Monica: So how you doing today? Did you sleep okay? Talk to Barry? I can't stop smiling.\n",
      "Monica: I know, he's just so, so... Do you remember you and Tony DeMarco?\n",
      "Monica: Well, it's like that. With feelings.\n",
      "Monica: Big time!\n",
      "Monica: I think we are getting a little ahead of selves here. Okay. Okay. I am just going to get up, go to work and not think about him all day. Or else I'm just gonna get up and go to work.\n",
      "Monica: What for?\n",
      "Monica: Hey Frannie, welcome back! How was Florida?\n",
      "Monica: How do you do that?\n",
      "Monica: You know Paul?\n",
      "Monica: You mean you know Paul like I know Paul?\n",
      "Monica: Why?! Why? Why, why would anybody do something like that?\n",
      "Monica: I hate men!  I hate men!\n",
      "Monica: Is it me? Is it like I have some sort of beacon that only dogs and men with severe emotional problems can hear?\n",
      "Monica: I just thought he was nice, y'know?\n",
      "Monica: How'd you pay for them?\n",
      "Monica: And who pays for that?\n",
      "Monica: C'mon, you can't live off your parents your whole life.\n",
      "Monica: All right, you ready?\n",
      "Monica: You can, I know you can!\n",
      "Monica:  Rachel!  That was a library card!\n",
      "Monica: Welcome to the real world! It sucks. You're gonna love it!\n",
      "Monica: Well, that's it (To Ross) You gonna crash on the couch?\n",
      "Monica: You be okay?\n",
      "Monica: That's Paul's watch. You just put it back where you found it. Oh boy. Alright. Goodnight, everybody.\n",
      "Monica: See ya.... Waitwait, what's with you?\n",
      "Monica: What? I-I said you had a-\n",
      "Monica: (to Phoebe) Would you stop?\n",
      "Monica: I said that you had a nice butt, it's just not a great butt.\n"
     ]
    }
   ],
   "source": [
    "#103\n",
    "line=re.findall(r'Monica:.+',script101)\n",
    "for item in line:\n",
    "    print(item)\n",
    "f.close()"
   ]
  },
  {
   "cell_type": "code",
   "execution_count": null,
   "id": "d3fbae26",
   "metadata": {},
   "outputs": [],
   "source": []
  }
 ],
 "metadata": {
  "kernelspec": {
   "display_name": "Python 3",
   "language": "python",
   "name": "python3"
  },
  "language_info": {
   "codemirror_mode": {
    "name": "ipython",
    "version": 3
   },
   "file_extension": ".py",
   "mimetype": "text/x-python",
   "name": "python",
   "nbconvert_exporter": "python",
   "pygments_lexer": "ipython3",
   "version": "3.8.8"
  }
 },
 "nbformat": 4,
 "nbformat_minor": 5
}
