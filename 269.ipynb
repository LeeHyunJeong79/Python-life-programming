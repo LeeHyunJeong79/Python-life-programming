{
 "cells": [
  {
   "cell_type": "code",
   "execution_count": 1,
   "metadata": {},
   "outputs": [],
   "source": [
    "import os,re\n",
    "import urllib.request as ur\n",
    "from bs4 import BeautifulSoup as bs\n",
    "news='https://news.daum.net/'\n",
    "soup=bs(ur.urlopen(news).read(),'html.parser')"
   ]
  },
  {
   "cell_type": "code",
   "execution_count": 4,
   "metadata": {},
   "outputs": [
    {
     "name": "stdout",
     "output_type": "stream",
     "text": [
      "[<a class=\"link_thumb\" data-tiara-custom=\"contentUniqueKey=hamny-20220113224756736\" data-tiara-id=\"20220113224756736\" data-tiara-layer=\"article_thumb\" data-tiara-ordnum=\"1\" data-tiara-type=\"harmony\" href=\"https://news.v.daum.net/v/20220113224756736\">\n",
      "<img alt=\"현대중-대우조선 합병 결국 무산..재매각 추진되나\" class=\"thumb_g\" src=\"https://img1.daumcdn.net/thumb/S254x156ht.u/?fname=https%3A%2F%2Ft1.daumcdn.net%2Fnews%2F202201%2F13%2Fdailian%2F20220113224802273jkje.jpg&amp;scode=media\"/>\n",
      "</a>, <a class=\"link_txt\" data-tiara-custom=\"contentUniqueKey=hamny-20220113224756736\" data-tiara-id=\"20220113224756736\" data-tiara-layer=\"article_main\" data-tiara-ordnum=\"1\" data-tiara-type=\"harmony\" href=\"https://news.v.daum.net/v/20220113224756736\">현대중-대우조선 합병 결국 무산..재매각 추진되나</a>]\n",
      "\n",
      "==========\n",
      "\n",
      "[<a class=\"link_thumb\" data-tiara-custom=\"contentUniqueKey=hamny-20220113224012692\" data-tiara-id=\"20220113224012692\" data-tiara-layer=\"article_thumb\" data-tiara-ordnum=\"1\" data-tiara-type=\"harmony\" href=\"https://news.v.daum.net/v/20220113224012692\">\n",
      "<img alt=\"'이선호씨 사망' 관계자 1심 집유, 감경 사유는 12억 합의금\" class=\"thumb_g\" src=\"https://img1.daumcdn.net/thumb/S254x156ht.u/?fname=https%3A%2F%2Ft1.daumcdn.net%2Fnews%2F202201%2F13%2Fjoongang%2F20220113224013963kvwz.jpg&amp;scode=media\"/>\n",
      "</a>, <a class=\"link_txt\" data-tiara-custom=\"contentUniqueKey=hamny-20220113224012692\" data-tiara-id=\"20220113224012692\" data-tiara-layer=\"article_main\" data-tiara-ordnum=\"1\" data-tiara-type=\"harmony\" href=\"https://news.v.daum.net/v/20220113224012692\">'이선호씨 사망' 관계자 1심 집유, 감경 사유는 12억 합의금</a>]\n",
      "\n",
      "==========\n",
      "\n",
      "[<a class=\"link_thumb\" data-tiara-custom=\"contentUniqueKey=hamny-20220113222741596\" data-tiara-id=\"20220113222741596\" data-tiara-layer=\"article_thumb\" data-tiara-ordnum=\"1\" data-tiara-type=\"harmony\" href=\"https://news.v.daum.net/v/20220113222741596\">\n",
      "<img alt=\"이재명·윤석열만 TV토론?..안철수·심상정 측 '불만 제기'\" class=\"thumb_g\" src=\"https://img1.daumcdn.net/thumb/S254x156ht.u/?fname=https%3A%2F%2Ft1.daumcdn.net%2Fnews%2F202201%2F13%2FEdaily%2F20220113222743946wjcv.jpg&amp;scode=media\"/>\n",
      "</a>, <a class=\"link_txt\" data-tiara-custom=\"contentUniqueKey=hamny-20220113222741596\" data-tiara-id=\"20220113222741596\" data-tiara-layer=\"article_main\" data-tiara-ordnum=\"1\" data-tiara-type=\"harmony\" href=\"https://news.v.daum.net/v/20220113222741596\">이재명·윤석열만 TV토론?..안철수·심상정 측 '불만 제기'</a>]\n",
      "\n",
      "==========\n",
      "\n",
      "[<a class=\"link_thumb\" data-tiara-custom=\"contentUniqueKey=hamny-20220113175242517\" data-tiara-id=\"20220113175242517\" data-tiara-layer=\"article_thumb\" data-tiara-ordnum=\"1\" data-tiara-type=\"harmony\" href=\"https://news.v.daum.net/v/20220113175242517\">\n",
      "<img alt=\"바이든, 北 잇딴 미사일 도발에 결국 제재 카드 꺼냈다\" class=\"thumb_g\" src=\"https://img1.daumcdn.net/thumb/S254x156ht.u/?fname=https%3A%2F%2Ft1.daumcdn.net%2Fnews%2F202201%2F13%2Fjoongang%2F20220113175243990klbw.jpg&amp;scode=media\"/>\n",
      "</a>, <a class=\"link_txt\" data-tiara-custom=\"contentUniqueKey=hamny-20220113175242517\" data-tiara-id=\"20220113175242517\" data-tiara-layer=\"article_main\" data-tiara-ordnum=\"1\" data-tiara-type=\"harmony\" href=\"https://news.v.daum.net/v/20220113175242517\">바이든, 北 잇딴 미사일 도발에 결국 제재 카드 꺼냈다</a>]\n",
      "\n",
      "==========\n",
      "\n"
     ]
    }
   ],
   "source": [
    "for i in soup.find_all('div',{'class':'item_issue'}):\n",
    "    print(i.find_all('a'))\n",
    "    print(\"\\n==========\\n\")"
   ]
  },
  {
   "cell_type": "code",
   "execution_count": 6,
   "metadata": {},
   "outputs": [
    {
     "name": "stdout",
     "output_type": "stream",
     "text": [
      "https://news.v.daum.net/v/20220113224756736\n",
      "\n",
      "==========\n",
      "\n",
      "https://news.v.daum.net/v/20220113224012692\n",
      "\n",
      "==========\n",
      "\n",
      "https://news.v.daum.net/v/20220113222741596\n",
      "\n",
      "==========\n",
      "\n",
      "https://news.v.daum.net/v/20220113175242517\n",
      "\n",
      "==========\n",
      "\n"
     ]
    }
   ],
   "source": [
    "for i in soup.find_all('div',{'class':'item_issue'}):\n",
    "    print(i.find_all('a')[0].get('href'))\n",
    "    print(\"\\n==========\\n\")"
   ]
  },
  {
   "cell_type": "code",
   "execution_count": null,
   "metadata": {},
   "outputs": [],
   "source": []
  }
 ],
 "metadata": {
  "kernelspec": {
   "display_name": "Python 3",
   "language": "python",
   "name": "python3"
  },
  "language_info": {
   "codemirror_mode": {
    "name": "ipython",
    "version": 3
   },
   "file_extension": ".py",
   "mimetype": "text/x-python",
   "name": "python",
   "nbconvert_exporter": "python",
   "pygments_lexer": "ipython3",
   "version": "3.8.5"
  }
 },
 "nbformat": 4,
 "nbformat_minor": 4
}
