{
 "cells": [
  {
   "cell_type": "code",
   "execution_count": 1,
   "metadata": {},
   "outputs": [],
   "source": [
    "import os,re\n",
    "import urllib.request as ur\n",
    "from bs4 import BeautifulSoup as bs\n",
    "url='https://news.daum.net/'\n",
    "soup=bs(ur.urlopen(url).read(),'html.parser')\n",
    "f=open('article_total.txt','w',encoding='utf8')\n",
    "#print(soup)\n",
    "for i in soup.find_all('div',{'class':'item_issue'}):\n",
    "    try:\n",
    "        f.write(i.text+'\\n') #제목을 추출해 파일에 기록\n",
    "        f.write(i.find_all('a')[0].get('href')+'\\n') #url주소를 추출해 파일에 기록\n",
    "\n",
    "        soup2=bs(ur.urlopen(i.find_all('a')[0].get('href')).read(),'html.parser')\n",
    "        #url 주소에 해당하는 웹문서를 열어 새 뷰티불수프 객체로 저장\n",
    "        \n",
    "        for j in soup2.find_all('p'):\n",
    "            f.write(j.text+'\\n')\n",
    "    except :\n",
    "        pass\n",
    "    \n",
    "f.close()\n",
    "    "
   ]
  },
  {
   "cell_type": "markdown",
   "metadata": {},
   "source": [
    "# 제목넣기"
   ]
  },
  {
   "cell_type": "code",
   "execution_count": null,
   "metadata": {},
   "outputs": [],
   "source": []
  }
 ],
 "metadata": {
  "kernelspec": {
   "display_name": "Python 3",
   "language": "python",
   "name": "python3"
  },
  "language_info": {
   "codemirror_mode": {
    "name": "ipython",
    "version": 3
   },
   "file_extension": ".py",
   "mimetype": "text/x-python",
   "name": "python",
   "nbconvert_exporter": "python",
   "pygments_lexer": "ipython3",
   "version": "3.8.5"
  }
 },
 "nbformat": 4,
 "nbformat_minor": 4
}
