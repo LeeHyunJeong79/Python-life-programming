{
 "cells": [
  {
   "cell_type": "code",
   "execution_count": 1,
   "metadata": {},
   "outputs": [
    {
     "name": "stdout",
     "output_type": "stream",
     "text": [
      "0.06434936937255586\n",
      "174.4011295118405\n"
     ]
    },
    {
     "name": "stderr",
     "output_type": "stream",
     "text": [
      "<ipython-input-1-f9243ab8dd85>:8: DeprecationWarning: numpy.irr is deprecated and will be removed from NumPy 1.20. Use numpy_financial.irr instead (https://pypi.org/project/numpy-financial/).\n",
      "  print(np.irr(cashflow))\n",
      "<ipython-input-1-f9243ab8dd85>:10: DeprecationWarning: numpy.npv is deprecated and will be removed from NumPy 1.20. Use numpy_financial.npv instead (https://pypi.org/project/numpy-financial/).\n",
      "  print(np.npv(0.045, cashflow))\n"
     ]
    }
   ],
   "source": [
    "# 놀이공원 사업수익성 분석  (Do it 파이썬 생활프로그래밍) 초판 2020: 186페이지\n",
    "import numpy as np \n",
    "cf = [-750, -250, 100, 100, 100, 100, 100, 100, 100, 100, 100, 100, 100, 100, 100, 100, 100, 100, 100, 100]\n",
    "\n",
    "cashflow = np.array(cf)\n",
    "\n",
    "# 순현재가치 구하기 \n",
    "print(np.irr(cashflow))\n",
    "# 사업수익률 구하기\n",
    "print(np.npv(0.045, cashflow))\n"
   ]
  },
  {
   "cell_type": "code",
   "execution_count": null,
   "metadata": {},
   "outputs": [],
   "source": []
  }
 ],
 "metadata": {
  "kernelspec": {
   "display_name": "Python 3",
   "language": "python",
   "name": "python3"
  },
  "language_info": {
   "codemirror_mode": {
    "name": "ipython",
    "version": 3
   },
   "file_extension": ".py",
   "mimetype": "text/x-python",
   "name": "python",
   "nbconvert_exporter": "python",
   "pygments_lexer": "ipython3",
   "version": "3.8.5"
  }
 },
 "nbformat": 4,
 "nbformat_minor": 4
}
