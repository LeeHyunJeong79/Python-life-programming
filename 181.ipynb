{
 "cells": [
  {
   "cell_type": "code",
   "execution_count": 1,
   "id": "c1294775",
   "metadata": {},
   "outputs": [
    {
     "data": {
      "text/plain": [
       "array([[1., 2., 1., 2., 2.],\n",
       "       [1., 3., 2., 3., 2.],\n",
       "       [1., 4., 3., 3., 3.],\n",
       "       [2., 5., 4., 4., 4.],\n",
       "       [2., 5., 6., 2., 5.],\n",
       "       [3., 6., 4., 2., 5.],\n",
       "       [3., 5., 4., 1., 6.],\n",
       "       [3., 5., 5., 1., 3.]])"
      ]
     },
     "execution_count": 1,
     "metadata": {},
     "output_type": "execute_result"
    }
   ],
   "source": [
    "import os, usecsv\n",
    "import numpy as np\n",
    "quest=np.array(usecsv.switch(usecsv.opencsv('quest.csv')))\n",
    "quest\n"
   ]
  },
  {
   "cell_type": "code",
   "execution_count": 2,
   "id": "b8489a64",
   "metadata": {},
   "outputs": [
    {
     "data": {
      "text/plain": [
       "array([[False, False, False, False, False],\n",
       "       [False, False, False, False, False],\n",
       "       [False, False, False, False, False],\n",
       "       [False, False, False, False, False],\n",
       "       [False, False,  True, False, False],\n",
       "       [False,  True, False, False, False],\n",
       "       [False, False, False, False,  True],\n",
       "       [False, False, False, False, False]])"
      ]
     },
     "execution_count": 2,
     "metadata": {},
     "output_type": "execute_result"
    }
   ],
   "source": [
    "quest>5"
   ]
  },
  {
   "cell_type": "code",
   "execution_count": 3,
   "id": "f7430af8",
   "metadata": {},
   "outputs": [
    {
     "data": {
      "text/plain": [
       "array([6., 6., 6.])"
      ]
     },
     "execution_count": 3,
     "metadata": {},
     "output_type": "execute_result"
    }
   ],
   "source": [
    "quest[quest>5]"
   ]
  },
  {
   "cell_type": "code",
   "execution_count": 4,
   "id": "96431386",
   "metadata": {},
   "outputs": [],
   "source": [
    "quest[quest>5]=5"
   ]
  },
  {
   "cell_type": "code",
   "execution_count": 5,
   "id": "99dd2cb1",
   "metadata": {
    "scrolled": true
   },
   "outputs": [
    {
     "data": {
      "text/plain": [
       "array([[1., 2., 1., 2., 2.],\n",
       "       [1., 3., 2., 3., 2.],\n",
       "       [1., 4., 3., 3., 3.],\n",
       "       [2., 5., 4., 4., 4.],\n",
       "       [2., 5., 5., 2., 5.],\n",
       "       [3., 5., 4., 2., 5.],\n",
       "       [3., 5., 4., 1., 5.],\n",
       "       [3., 5., 5., 1., 3.]])"
      ]
     },
     "execution_count": 5,
     "metadata": {},
     "output_type": "execute_result"
    }
   ],
   "source": [
    "quest"
   ]
  },
  {
   "cell_type": "code",
   "execution_count": 6,
   "id": "b80c11ef",
   "metadata": {},
   "outputs": [],
   "source": [
    "usecsv.writecsv('resultcsv.csv',list(quest))"
   ]
  },
  {
   "cell_type": "code",
   "execution_count": null,
   "id": "a9319d09",
   "metadata": {},
   "outputs": [],
   "source": []
  }
 ],
 "metadata": {
  "kernelspec": {
   "display_name": "Python 3",
   "language": "python",
   "name": "python3"
  },
  "language_info": {
   "codemirror_mode": {
    "name": "ipython",
    "version": 3
   },
   "file_extension": ".py",
   "mimetype": "text/x-python",
   "name": "python",
   "nbconvert_exporter": "python",
   "pygments_lexer": "ipython3",
   "version": "3.8.8"
  }
 },
 "nbformat": 4,
 "nbformat_minor": 5
}
