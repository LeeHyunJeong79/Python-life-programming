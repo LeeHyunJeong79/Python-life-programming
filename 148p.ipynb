{
 "cells": [
  {
   "cell_type": "code",
   "execution_count": 2,
   "id": "1badfd12",
   "metadata": {},
   "outputs": [],
   "source": [
    "#csv형 리스트에서 숫자형으로 변환할 수 있는 자료만 숫자형으로 변환할 수 있는 프로그램\n",
    "\n",
    "import csv,re\n",
    "#파일 읽어오기\n",
    "def opencsv(filename):\n",
    "    f=open(filename,'r')\n",
    "    reader=csv.reader(f)\n",
    "    output=[]\n",
    "    for i in reader:\n",
    "        output.append(i)\n",
    "    return output\n",
    "\n",
    "#파일 쓰기\n",
    "def writecsv(filename,the_list):\n",
    "    with open(filename,'w',newline='') as f:\n",
    "        a=csv.writer(f,delimiter=',')\n",
    "        a.writerows(the_list)\n",
    "#숫자형 변환하기        \n",
    "def switch(listName):\n",
    "    for i  in listName:\n",
    "        for j in i:\n",
    "            try:\n",
    "                i[i.index(j)]=float(re.sub(',','',j))\n",
    "            except:\n",
    "                pass\n",
    "    return listName\n",
    "\n",
    "#함수 호출해서 숫자형으로 변환하기\n",
    "writecsv('age2.csv',switch(opencsv('age.csv')))\n"
   ]
  },
  {
   "cell_type": "code",
   "execution_count": null,
   "id": "e36ba6e1",
   "metadata": {},
   "outputs": [],
   "source": []
  },
  {
   "cell_type": "code",
   "execution_count": null,
   "id": "4f1984ad",
   "metadata": {},
   "outputs": [],
   "source": []
  }
 ],
 "metadata": {
  "kernelspec": {
   "display_name": "Python 3",
   "language": "python",
   "name": "python3"
  },
  "language_info": {
   "codemirror_mode": {
    "name": "ipython",
    "version": 3
   },
   "file_extension": ".py",
   "mimetype": "text/x-python",
   "name": "python",
   "nbconvert_exporter": "python",
   "pygments_lexer": "ipython3",
   "version": "3.8.8"
  }
 },
 "nbformat": 4,
 "nbformat_minor": 5
}
