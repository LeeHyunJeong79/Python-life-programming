{
 "cells": [
  {
   "cell_type": "code",
   "execution_count": 1,
   "metadata": {},
   "outputs": [],
   "source": [
    "import os,re\n",
    "import pandas as pd\n",
    "os.chdir(r'C:\\Users\\USER\\OneDrive - 군포e비즈니스고등학교\\01. 정보교과지도자료\\2021 빅데이터분석(파이썬)\\3. 파이썬 생활프로그래밍 소스\\Doit!_파이썬생활프로그래밍_소스\\05')\n",
    "df2=pd.read_csv('survey.csv')"
   ]
  },
  {
   "cell_type": "code",
   "execution_count": 4,
   "metadata": {},
   "outputs": [],
   "source": [
    "from scipy import stats #scipy패키지에서 stats모듈만 import\n",
    "male=df2.income[df2.sex=='m']\n",
    "female=df2.income[df2.sex=='f']"
   ]
  },
  {
   "cell_type": "code",
   "execution_count": 5,
   "metadata": {},
   "outputs": [
    {
     "name": "stdout",
     "output_type": "stream",
     "text": [
      "0     3000\n",
      "3     6000\n",
      "4     4000\n",
      "5     3000\n",
      "6     3000\n",
      "7     5000\n",
      "10    3000\n",
      "11    4000\n",
      "12    5000\n",
      "13    6000\n",
      "16    3000\n",
      "17    5000\n",
      "18    4999\n",
      "19    5000\n",
      "Name: income, dtype: int64\n",
      "1     4000\n",
      "2     5000\n",
      "8     4999\n",
      "9     5000\n",
      "14    4000\n",
      "15    3000\n",
      "20    4999\n",
      "21    5000\n",
      "22    3000\n",
      "Name: income, dtype: int64\n"
     ]
    }
   ],
   "source": [
    "print(male)\n",
    "print(female)"
   ]
  },
  {
   "cell_type": "code",
   "execution_count": 6,
   "metadata": {},
   "outputs": [
    {
     "data": {
      "text/plain": [
       "Ttest_indResult(statistic=-0.10650308143428423, pvalue=0.9161940781163369)"
      ]
     },
     "execution_count": 6,
     "metadata": {},
     "output_type": "execute_result"
    }
   ],
   "source": [
    "stats.ttest_ind(male,female)"
   ]
  },
  {
   "cell_type": "code",
   "execution_count": 10,
   "metadata": {},
   "outputs": [
    {
     "name": "stdout",
     "output_type": "stream",
     "text": [
      "Ttest_indResult(statistic=-0.10650308143428423, pvalue=0.9161940781163369)\n",
      "-0.10650308143428423\n",
      "0.9161940781163369\n",
      "p-value는 0.916194로 95%수준에서 유의하지 않음\n"
     ]
    }
   ],
   "source": [
    "#pvalue가 0.05보다 작은 경우에만 우의하다고 판정하기\n",
    "ttest_result=stats.ttest_ind(male,female)\n",
    "print(ttest_result)\n",
    "print(ttest_result[0])\n",
    "print(ttest_result[1])\n",
    "if ttest_result[1]>0.05 :\n",
    "    print(\"p-value는 %f로 95%%수준에서 유의하지 않음\"%ttest_result[1])\n",
    "else:\n",
    "    print(\"p-value는 %f로 95%%수준에서 유의함\"%ttest_result[1])"
   ]
  },
  {
   "cell_type": "code",
   "execution_count": null,
   "metadata": {},
   "outputs": [],
   "source": []
  }
 ],
 "metadata": {
  "kernelspec": {
   "display_name": "Python 3",
   "language": "python",
   "name": "python3"
  },
  "language_info": {
   "codemirror_mode": {
    "name": "ipython",
    "version": 3
   },
   "file_extension": ".py",
   "mimetype": "text/x-python",
   "name": "python",
   "nbconvert_exporter": "python",
   "pygments_lexer": "ipython3",
   "version": "3.8.5"
  }
 },
 "nbformat": 4,
 "nbformat_minor": 4
}
