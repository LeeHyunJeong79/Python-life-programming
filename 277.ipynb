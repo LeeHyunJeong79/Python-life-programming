{
 "cells": [
  {
   "cell_type": "code",
   "execution_count": 1,
   "metadata": {},
   "outputs": [],
   "source": [
    "import os,re\n",
    "import urllib.request as ur\n",
    "from bs4 import BeautifulSoup as bs\n",
    "news='https://news.daum.net/'\n",
    "soup=bs(ur.urlopen(news).read(),'html.parser')\n"
   ]
  },
  {
   "cell_type": "code",
   "execution_count": 8,
   "metadata": {
    "scrolled": true
   },
   "outputs": [
    {
     "name": "stdout",
     "output_type": "stream",
     "text": [
      "https://news.v.daum.net/v/20220116132103027\n",
      "\n",
      "https://news.v.daum.net/v/20220116131326904\n",
      "\n",
      "https://news.v.daum.net/v/20220116124042580\n",
      "\n",
      "https://news.v.daum.net/v/20220116121448337\n",
      "\n"
     ]
    }
   ],
   "source": [
    "#277\n",
    "f=open('links.txt','w')\n",
    "for i in soup.find_all('div',{'class':'item_issue'}):\n",
    "    a=i.find_all('a')[0].get('href')+'\\n'\n",
    "    print(a)\n",
    "    f.write(a+'\\n')\n",
    "f.close()"
   ]
  },
  {
   "cell_type": "code",
   "execution_count": 12,
   "metadata": {},
   "outputs": [],
   "source": [
    "#279\n",
    "article1='https://news.v.daum.net/v/20220116132103027'\n",
    "soup=bs(ur.urlopen(article1).read(),'html.parser') #불러올 파일을 soup객체로 저장합니다.\n",
    "f=open('article1.txt','w')\n",
    "for i in soup.find_all('p'):\n",
    "    f.write(i.text+'\\n') "
   ]
  }
 ],
 "metadata": {
  "kernelspec": {
   "display_name": "Python 3",
   "language": "python",
   "name": "python3"
  },
  "language_info": {
   "codemirror_mode": {
    "name": "ipython",
    "version": 3
   },
   "file_extension": ".py",
   "mimetype": "text/x-python",
   "name": "python",
   "nbconvert_exporter": "python",
   "pygments_lexer": "ipython3",
   "version": "3.8.5"
  }
 },
 "nbformat": 4,
 "nbformat_minor": 4
}
