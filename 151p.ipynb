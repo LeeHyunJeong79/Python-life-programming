{
 "cells": [
  {
   "cell_type": "code",
   "execution_count": 3,
   "id": "119eefdc",
   "metadata": {},
   "outputs": [
    {
     "name": "stdout",
     "output_type": "stream",
     "text": [
      "[['Gu', 'Korean', 'Foreigner', 'Senior'], ['Total', 9740398.0, 285529.0, 1468146.0], ['Jongrogu', 151767.0, 11093.0, 27394.0], ['Jongru', 126409.0, 10254.0, 23025.0]]\n",
      "Total 2.8\n",
      "Jongrogu 6.8\n",
      "Jongru 7.5\n",
      "Yongsangu 6.6\n",
      "Seongdonggu 2.6\n",
      "Kwangjingu 4.2\n",
      "Dongdaemoongu 4.7\n",
      "Jungranggu 1.2\n",
      "Seongbukgu 2.8\n",
      "Gangbukgu 1.2\n",
      "Dobonggu 0.7\n",
      "Nowonggu 0.8\n",
      "Eunpyonggu 0.9\n",
      "Seodaemungu 4.3\n",
      "Mapogu 3.1\n",
      "Yangcheongu 0.9\n",
      "Gangseogu 1.1\n",
      "Gurogu 7.5\n",
      "Guemcheongu 7.7\n",
      "Youngdeungpogu 8.5\n",
      "Dongjakgu 3.1\n",
      "Kwanakgu 3.4\n",
      "Seoucheogu 1.0\n",
      "Gangnamgu 0.9\n",
      "Songpagu 1.0\n",
      "Gangdonggu 1.0\n"
     ]
    }
   ],
   "source": [
    "#151\n",
    "import os, re, usecsv\n",
    "total=usecsv.opencsv('popSeoul.csv')\n",
    "newpop=usecsv.switch(total)\n",
    "\n",
    "print(newpop[:4])\n",
    "\n",
    "for i in newpop:\n",
    "    foreign=0\n",
    "    try:\n",
    "        foreign=round(i[2]/(i[1]+i[2])*100,1)\n",
    "        print(i[0],foreign)\n",
    "    except:\n",
    "        pass"
   ]
  },
  {
   "cell_type": "code",
   "execution_count": 10,
   "id": "281c28d4",
   "metadata": {},
   "outputs": [
    {
     "name": "stdout",
     "output_type": "stream",
     "text": [
      "['Jongrogu', 151767.0, 11093.0, 6.8]\n",
      "['Jongru', 126409.0, 10254.0, 7.5]\n",
      "['Yongsangu', 228830.0, 16159.0, 6.6]\n",
      "['Kwangjingu', 352692.0, 15645.0, 4.2]\n",
      "['Dongdaemoongu', 346551.0, 17228.0, 4.7]\n",
      "['Seodaemungu', 310069.0, 14020.0, 4.3]\n",
      "['Mapogu', 373629.0, 11976.0, 3.1]\n",
      "['Gurogu', 406748.0, 33102.0, 7.5]\n",
      "['Guemcheongu', 233371.0, 19497.0, 7.7]\n",
      "['Youngdeungpogu', 368402.0, 34076.0, 8.5]\n",
      "['Dongjakgu', 397618.0, 12869.0, 3.1]\n",
      "['Kwanakgu', 502117.0, 17836.0, 3.4]\n"
     ]
    }
   ],
   "source": [
    "#153\n",
    "import re, usecsv\n",
    "total=usecsv.opencsv('popSeoul.csv')\n",
    "newpop=usecsv.switch(total)\n",
    "\n",
    "new=[['구','한국인','외국인','외국인비율']]\n",
    "new.append([i[0],i[1],i[2],foreign])\n",
    "#print(new)\n",
    "\n",
    "for i in newpop:\n",
    "    foreign=0\n",
    "   # print(i)\n",
    "    try:\n",
    "        foreign=round(i[2]/(i[1]+i[2])*100,1)\n",
    "        if foreign>3:\n",
    "            print([i[0],i[1],i[2],foreign])\n",
    "    except :\n",
    "        pass\n",
    "\n"
   ]
  },
  {
   "cell_type": "code",
   "execution_count": 11,
   "id": "d378d9bb",
   "metadata": {},
   "outputs": [],
   "source": [
    "#154\n",
    "import re, usecsv\n",
    "total=usecsv.opencsv('popSeoul.csv')\n",
    "newpop=usecsv.switch(total)\n",
    "\n",
    "new=[['구','한국인','외국인','외국인비율']]\n",
    "new.append([i[0],i[1],i[2],foreign])\n",
    "#print(new)\n",
    "\n",
    "for i in newpop:\n",
    "    foreign=0\n",
    "  \n",
    "    try:\n",
    "        foreign=round(i[2]/(i[1]+i[2])*100,1)\n",
    "        if foreign>3:\n",
    "            new.append([i[0],i[1],i[2],foreign]) #출력한 값을 new에 저장합니다.\n",
    "    except :\n",
    "        pass\n",
    "usecsv.writecsv('newpop.csv',new)\n"
   ]
  },
  {
   "cell_type": "code",
   "execution_count": null,
   "id": "4864ed9e",
   "metadata": {},
   "outputs": [],
   "source": []
  }
 ],
 "metadata": {
  "kernelspec": {
   "display_name": "Python 3",
   "language": "python",
   "name": "python3"
  },
  "language_info": {
   "codemirror_mode": {
    "name": "ipython",
    "version": 3
   },
   "file_extension": ".py",
   "mimetype": "text/x-python",
   "name": "python",
   "nbconvert_exporter": "python",
   "pygments_lexer": "ipython3",
   "version": "3.8.8"
  }
 },
 "nbformat": 4,
 "nbformat_minor": 5
}
